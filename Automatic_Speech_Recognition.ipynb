{
 "cells": [
  {
   "cell_type": "markdown",
   "metadata": {},
   "source": [
    "# Info \n",
    "\n",
    "Whisper-based Automatic Speech Recognition (ASR)\n",
    "\n",
    "Huggingface [Repo](https://huggingface.co/seastar105/whisper-medium-ko-zeroth)"
   ]
  },
  {
   "cell_type": "code",
   "execution_count": null,
   "metadata": {},
   "outputs": [],
   "source": [
    "import librosa\n",
    "\n",
    "# input audio data \n",
    "wav_data = '/content/red.wav'\n",
    "\n",
    "speech, sample_rate = librosa.load(wav_data, sr=16000)"
   ]
  },
  {
   "cell_type": "code",
   "execution_count": null,
   "metadata": {},
   "outputs": [],
   "source": [
    "from transformers import WhisperProcessor, WhisperForConditionalGeneration\n",
    "\n",
    "# load model and processor\n",
    "processor = WhisperProcessor.from_pretrained(\"seastar105/whisper-medium-ko-zeroth\")\n",
    "model = WhisperForConditionalGeneration.from_pretrained(\"seastar105/whisper-medium-ko-zeroth\")\n",
    "model.config.forced_decoder_ids = None"
   ]
  },
  {
   "cell_type": "code",
   "execution_count": null,
   "metadata": {},
   "outputs": [],
   "source": [
    "# read audio files\n",
    "input_features = processor(speech, sampling_rate=sample_rate, return_tensors=\"pt\").input_features\n",
    "\n",
    "# generate token ids\n",
    "predicted_ids = model.generate(input_features)\n",
    "# decode token ids to text\n",
    "\n",
    "transcription = processor.batch_decode(predicted_ids, skip_special_tokens=True)\n",
    "\n",
    "# \"빨간색\"\n",
    "transcription"
   ]
  }
 ],
 "metadata": {
  "language_info": {
   "name": "python"
  }
 },
 "nbformat": 4,
 "nbformat_minor": 2
}
